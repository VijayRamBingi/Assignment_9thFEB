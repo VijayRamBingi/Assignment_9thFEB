{
 "cells": [
  {
   "cell_type": "markdown",
   "id": "56248919-9727-4b95-b107-5507c8958762",
   "metadata": {},
   "source": [
    "#### Q1, Create a vehicle class with an init method having instance variables as name_of_vehicle, max_speed and average_of_vehicle."
   ]
  },
  {
   "cell_type": "code",
   "execution_count": 2,
   "id": "0f11df3d-f32a-4cf2-84d9-0c3360e7e924",
   "metadata": {},
   "outputs": [
    {
     "name": "stdout",
     "output_type": "stream",
     "text": [
      "Name: Car\n",
      "Max Speed: 200\n",
      "Average Speed: 100\n"
     ]
    }
   ],
   "source": [
    "class Vehicle:\n",
    "    def __init__(self, vehicle_name, max_speed, average_speed):\n",
    "        self.name_of_vehicle = vehicle_name\n",
    "        self.max_speed = max_speed\n",
    "        self.average_of_vehicle = average_speed\n",
    "\n",
    "# Creating an object (instance) of the Vehicle class\n",
    "car = Vehicle(\"BU\", 200, 100)\n",
    "\n",
    "# Accessing the instance attributes\n",
    "print(\"Name:\", car.name_of_vehicle)           # Output: Name: Car\n",
    "print(\"Max Speed:\", car.max_speed)             # Output: Max Speed: 200\n",
    "print(\"Average Speed:\", car.average_of_vehicle) # Output: Average Speed: 100\n"
   ]
  },
  {
   "cell_type": "code",
   "execution_count": null,
   "id": "f4546a35-22d1-4167-bc24-4c5ff59062db",
   "metadata": {},
   "outputs": [],
   "source": []
  },
  {
   "cell_type": "markdown",
   "id": "fd355a1f-bef7-4c40-9c40-1787e752f971",
   "metadata": {},
   "source": [
    "#### Q2. Create a child class car from the vehicle class created in Que 1, which will inherit the vehicle class. Create a method named seating_capacity which takes capacity as an argument and returns the name of the vehicle and its seating capacity."
   ]
  },
  {
   "cell_type": "code",
   "execution_count": 3,
   "id": "b117f938-32df-43aa-a2a4-e59193b05e82",
   "metadata": {},
   "outputs": [
    {
     "name": "stdout",
     "output_type": "stream",
     "text": [
      "Max Speed: 150\n",
      "Average Speed: 100\n",
      "Car has a seating capacity of 5 passengers.\n"
     ]
    }
   ],
   "source": [
    "class Vehicle:\n",
    "    def __init__(self, name, max_speed, average_speed):\n",
    "        self.name_of_vehicle = name\n",
    "        self.max_speed = max_speed\n",
    "        self.average_of_vehicle = average_speed\n",
    "\n",
    "class Car(Vehicle):\n",
    "    def seating_capacity(self, capacity):\n",
    "        return f\"{self.name_of_vehicle} has a seating capacity of {capacity} passengers.\"\n",
    "\n",
    "# Creating an object (instance) of the Car class\n",
    "a = Car(\"Car\", 150, 100)\n",
    "\n",
    "# Using the inherited attributes\n",
    "print(\"Max Speed:\", a.max_speed)             # Output: Max Speed: 200\n",
    "print(\"Average Speed:\", a.average_of_vehicle) # Output: Average Speed: 100\n",
    "\n",
    "# Using the method specific to the Car class\n",
    "capacity = 5\n",
    "print(car.seating_capacity(capacity))  # Output: Car has a seating capacity of 5 passengers.\n"
   ]
  },
  {
   "cell_type": "code",
   "execution_count": null,
   "id": "573b079f-b9c7-4a8c-8ce9-ce92991ac612",
   "metadata": {},
   "outputs": [],
   "source": []
  },
  {
   "cell_type": "markdown",
   "id": "8ad6c727-f848-4325-8ee8-3bc490f44257",
   "metadata": {},
   "source": [
    "#### Q3. What is multiple inheritance? Write a python code to demonstrate multiple inheritance."
   ]
  },
  {
   "cell_type": "code",
   "execution_count": 4,
   "id": "ec051152-f6af-4e9e-8ae7-9f1828ef5417",
   "metadata": {},
   "outputs": [
    {
     "name": "stdout",
     "output_type": "stream",
     "text": [
      "A bird can do: Flying and Swimming\n",
      "A fish can do: Swimming\n"
     ]
    }
   ],
   "source": [
    "class Flyer:\n",
    "    def fly(self):\n",
    "        return \"Flying\"\n",
    "\n",
    "class Swimmer:\n",
    "    def swim(self):\n",
    "        return \"Swimming\"\n",
    "\n",
    "class Bird(Flyer, Swimmer):\n",
    "    def display(self):\n",
    "        print(f\"A bird can do: {self.fly()} and {self.swim()}\")\n",
    "\n",
    "class Fish(Swimmer):\n",
    "    def display(self):\n",
    "        print(f\"A fish can do: {self.swim()}\")\n",
    "\n",
    "# Creating objects (instances) of the classes\n",
    "bird = Bird()\n",
    "fish = Fish()\n",
    "\n",
    "# Using methods from multiple parent classes\n",
    "bird.display()  # Output: A bird can do: Flying and Swimming\n",
    "fish.display()  # Output: A fish can do: Swimming\n"
   ]
  },
  {
   "cell_type": "code",
   "execution_count": null,
   "id": "d6c3c415-d873-4be4-a579-2c84af29bfe4",
   "metadata": {},
   "outputs": [],
   "source": []
  },
  {
   "cell_type": "markdown",
   "id": "d5e4dbfb-dbbb-49c0-aabe-3eeb6795a1cb",
   "metadata": {},
   "source": [
    "#### Q4. What are getter and setter in python? Create a class and create a getter and a setter method in this class."
   ]
  },
  {
   "cell_type": "markdown",
   "id": "7cf30247-7727-4187-8d22-2b1ee13cabb4",
   "metadata": {},
   "source": [
    "##### In Python, getter and setter methods are used to control access to attributes of a class. They provide a way to retrieve (get) and modify (set) the values of private attributes, while allowing you to add validation or additional logic if needed.\n",
    "\n",
    "##### Getter Method: A getter method is used to retrieve the value of a private attribute. It ensures controlled access to the attribute, and you can perform any necessary processing before returning the value.\n",
    "\n",
    "##### Setter Method: A setter method is used to modify the value of a private attribute. It provides controlled access to changing the attribute's value, allowing you to enforce constraints or validation checks."
   ]
  },
  {
   "cell_type": "code",
   "execution_count": 6,
   "id": "0d6ef3cf-3289-41e0-b61f-a86a2b00d723",
   "metadata": {},
   "outputs": [
    {
     "name": "stdout",
     "output_type": "stream",
     "text": [
      "Original name: Vijayram\n",
      "Updated name: MOM\n",
      "Name must have at least 3 characters.\n"
     ]
    }
   ],
   "source": [
    "class Person:\n",
    "    def __init__(self, name):\n",
    "        self._name = name\n",
    "\n",
    "    def get_name(self):\n",
    "        return self._name\n",
    "\n",
    "    def set_name(self, new_name):\n",
    "        if len(new_name) >= 3:\n",
    "            self._name = new_name\n",
    "        else:\n",
    "            print(\"Name must have at least 3 characters.\")\n",
    "\n",
    "# Creating an object (instance) of the Person class\n",
    "person = Person(\"Vijayram\")\n",
    "\n",
    "# Using getter and setter methods\n",
    "print(\"Original name:\", person.get_name())  # Output: Original name: Alice\n",
    "\n",
    "person.set_name(\"MOM\")  # Valid name change\n",
    "print(\"Updated name:\", person.get_name())   # Output: Updated name: Bob\n",
    "\n",
    "person.set_name(\"Li\")   # Invalid name change, won't be applied\n"
   ]
  },
  {
   "cell_type": "code",
   "execution_count": null,
   "id": "72f41370-b158-4ed2-be12-dbc911ad027f",
   "metadata": {},
   "outputs": [],
   "source": []
  },
  {
   "cell_type": "markdown",
   "id": "e9fc5df8-7fb8-4c1a-9c8d-be71c39c9000",
   "metadata": {},
   "source": [
    "#### Q5.What is method overriding in python? Write a python code to demonstrate method overriding."
   ]
  },
  {
   "cell_type": "markdown",
   "id": "e3cdf9e4-ca85-4c66-be93-4c021694a149",
   "metadata": {},
   "source": [
    "##### Method overriding is a concept in object-oriented programming where a subclass provides a specific implementation for a method that is already defined in its superclass. When a method is overridden in a subclass, the subclass version of the method is called instead of the superclass version when the method is invoked on an object of the subclass."
   ]
  },
  {
   "cell_type": "code",
   "execution_count": 7,
   "id": "dc311c5d-3fc5-47bf-abff-286d6fddbeba",
   "metadata": {},
   "outputs": [
    {
     "name": "stdout",
     "output_type": "stream",
     "text": [
      "Generic vehicle sound\n",
      "Car engine noise\n",
      "Bicycle bell ring\n",
      "Boat horn blast\n"
     ]
    }
   ],
   "source": [
    "class Vehicle:\n",
    "    def make_sound(self):\n",
    "        return \"Generic vehicle sound\"\n",
    "\n",
    "class Car(Vehicle):\n",
    "    def make_sound(self):\n",
    "        return \"Car engine noise\"\n",
    "\n",
    "class Bicycle(Vehicle):\n",
    "    def make_sound(self):\n",
    "        return \"Bicycle bell ring\"\n",
    "\n",
    "class Boat(Vehicle):\n",
    "    def make_sound(self):\n",
    "        return \"Boat horn blast\"\n",
    "\n",
    "# Creating objects (instances) of the classes\n",
    "vehicle = Vehicle()\n",
    "car = Car()\n",
    "bicycle = Bicycle()\n",
    "boat = Boat()\n",
    "\n",
    "# Using overridden methods for different types of vehicles\n",
    "print(vehicle.make_sound())  # Output: Generic vehicle sound\n",
    "print(car.make_sound())      # Output: Car engine noise\n",
    "print(bicycle.make_sound())  # Output: Bicycle bell ring\n",
    "print(boat.make_sound())     # Output: Boat horn blast\n"
   ]
  },
  {
   "cell_type": "code",
   "execution_count": null,
   "id": "b9660ee5-fa47-4b08-a60a-13a0622953e0",
   "metadata": {},
   "outputs": [],
   "source": []
  }
 ],
 "metadata": {
  "kernelspec": {
   "display_name": "Python 3 (ipykernel)",
   "language": "python",
   "name": "python3"
  },
  "language_info": {
   "codemirror_mode": {
    "name": "ipython",
    "version": 3
   },
   "file_extension": ".py",
   "mimetype": "text/x-python",
   "name": "python",
   "nbconvert_exporter": "python",
   "pygments_lexer": "ipython3",
   "version": "3.10.8"
  }
 },
 "nbformat": 4,
 "nbformat_minor": 5
}
